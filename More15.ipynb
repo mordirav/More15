{
  "nbformat": 4,
  "nbformat_minor": 0,
  "metadata": {
    "colab": {
      "provenance": []
    },
    "kernelspec": {
      "name": "python3",
      "display_name": "Python 3"
    },
    "language_info": {
      "name": "python"
    }
  },
  "cells": [
    {
      "cell_type": "code",
      "execution_count": 91,
      "metadata": {
        "colab": {
          "base_uri": "https://localhost:8080/"
        },
        "id": "Y1RE9NaVJfTh",
        "outputId": "7d6cd9a4-1b54-4f97-de3d-58ea91fb5245"
      },
      "outputs": [
        {
          "output_type": "stream",
          "name": "stdout",
          "text": [
            "2 6 6 1\n",
            "(2, 9, 11, 5, 3, 8, 'Player one wins')\n"
          ]
        }
      ],
      "source": [
        "import random\n",
        "\n",
        "colors = ['red', 'black']\n",
        "numbers = list(range(1, 11))\n",
        "\n",
        "def random_num():\n",
        "  random_num = random.choice(numbers)\n",
        "  return random_num\n",
        "\n",
        "\n",
        "r1 = random_num()\n",
        "print(r1, random_num(), random_num(), random_num())\n",
        "\n",
        "def more_15(card1, card2, card3, card4):\n",
        "  result = card1 + card2\n",
        "  result_2 = card3 + card4\n",
        "  #print(card1, card2, result)\n",
        "  player_1 = \"\"\n",
        "  if result == result_2:\n",
        "    player_1 = \"Draw\"\n",
        "  elif result > result_2 and result < 16:\n",
        "    player_1 = \"Player one wins\"\n",
        "  else:\n",
        "    player_1 = \"Player one loses\"\n",
        "\n",
        "  storage = [card1, card2, result, card3, card4, result_2, player_1]\n",
        "  return card1, card2, result, card3, card4, result_2, player_1\n",
        "\n",
        "game1 = more_15(random_num(), random_num(), random_num(), random_num())\n",
        "print(game1)"
      ]
    }
  ]
}